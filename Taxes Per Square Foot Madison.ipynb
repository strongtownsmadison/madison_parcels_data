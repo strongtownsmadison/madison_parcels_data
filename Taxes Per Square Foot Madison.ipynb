{
 "cells": [
  {
   "cell_type": "code",
   "execution_count": null,
   "id": "a104f346",
   "metadata": {},
   "outputs": [],
   "source": [
    "import geopandas as gpd\n",
    "import pandas as pd\n",
    "import matplotlib.pyplot as plt\n"
   ]
  },
  {
   "cell_type": "code",
   "execution_count": null,
   "id": "111422c9",
   "metadata": {},
   "outputs": [],
   "source": [
    "#shapefile_parcels = gpd.read_file('zip:///Users/jameskreft/AnacondaProjects/madison_parcels_data/Tax_Parcels_shapefile_2022_02_15.zip')\n"
   ]
  },
  {
   "cell_type": "code",
   "execution_count": null,
   "id": "e706b888",
   "metadata": {},
   "outputs": [],
   "source": [
    "#shapefile_parcels.info(verbose=True)"
   ]
  },
  {
   "cell_type": "markdown",
   "id": "5c5a95b4",
   "metadata": {},
   "source": [
    "You can get the parcels data from the [Madison Open data portal](https://data-cityofmadison.opendata.arcgis.com/datasets/0338b0638e4749c395f8d38b39a5c466_0/explore), choose download, and then choose either geojson or file geodatabase.  Both kick out the same data that geopandas reads. Don't use shapefile, it truncates the data headers and makes everything confusing."
   ]
  },
  {
   "cell_type": "code",
   "execution_count": null,
   "id": "d91355c7",
   "metadata": {},
   "outputs": [],
   "source": [
    "#parcels = gpd.read_file('Tax_Parcels_March_2024.geojson')\n",
    "parcels = gpd.read_file('parcels_filegeodatabase.gdb')\n"
   ]
  },
  {
   "cell_type": "code",
   "execution_count": null,
   "id": "7dfa8554",
   "metadata": {},
   "outputs": [],
   "source": [
    "parcels.info(verbose=True)"
   ]
  },
  {
   "cell_type": "markdown",
   "id": "518db155",
   "metadata": {},
   "source": [
    "This is an attempt to clean up the data to colsolidate the different property uses.  It needs more work."
   ]
  },
  {
   "cell_type": "code",
   "execution_count": null,
   "id": "2ba68c0b",
   "metadata": {},
   "outputs": [],
   "source": [
    "\n",
    "\n",
    "def clean_up_property_use(prop_use):\n",
    "    if 'apartment' in prop_use.lower():\n",
    "        cleaned_use = 'Multifamily'\n",
    "    elif (prop_use == '2 Unit' or prop_use == '3 To 7 Unit'):\n",
    "        cleaned_use = 'Multifamily'\n",
    "    elif (prop_use == 'Condominium -apt'):\n",
    "        cleaned_use = 'Multifamily'\n",
    "    elif prop_use.startswith('Warehouse') or prop_use.startswith('Warehse'):\n",
    "        cleaned_use = 'Warehouse'\n",
    "    elif prop_use.startswith('Store'):\n",
    "        cleaned_use = 'Store'\n",
    "    elif prop_use.startswith('Station'):\n",
    "        cleaned_use = 'Station'\n",
    "    else:\n",
    "        cleaned_use = prop_use\n",
    "    return(cleaned_use)\n",
    "\n",
    "parcels['property_use_cleaned'] = parcels['PropertyUse'].apply(clean_up_property_use)\n",
    "#parcels.head(50)\n",
    "multifamily = parcels[parcels['property_use_cleaned']=='Multifamily']\n",
    "#multifamily.info(verbose=True)\n",
    "multifamily_grouped = multifamily.groupby([\"MaxConstructionYear\"], sort=True, as_index=False).agg({\"TotalDwellingUnits\":\"sum\"})\n",
    "multifamily_grouped['construction_by_decade'] = pd.cut(x=multifamily_grouped['MaxConstructionYear'], bins=[1700,1899,1909,1919,1929,1939,1949,1959,1969,1979,1989,1999,2009,2019,2029], \n",
    "                                                       labels=['1800-1899', '1900s','1910s', '1920s', '1930s', '1940s', '1950s', '1960s','1970s','1980s', '1990s','2000s','2010s','2020s'])\n",
    "\n",
    "multifamily_grouped.head(50)\n",
    "\n",
    "ax = multifamily_grouped.groupby([\"construction_by_decade\"], sort=True, as_index=False).agg({\"TotalDwellingUnits\":\"sum\"}).plot.bar(x='construction_by_decade', y='TotalDwellingUnits', rot=0, ylabel='Total Dwelling units')\n",
    "\n",
    "plt.xticks(rotation=45)\n",
    "plt.show()\n",
    "\n"
   ]
  },
  {
   "cell_type": "code",
   "execution_count": null,
   "id": "73c8aa6b",
   "metadata": {},
   "outputs": [],
   "source": [
    "narrowed_multifamily = multifamily.loc[:,['OBJECTID', 'Parcel', 'XRefParcel', 'Address', 'PropertyClass', 'PropertyUse','property_use_cleaned',\n",
    "                                  'AreaName', 'Bedrooms', 'CurrentTotal', 'NetTaxes', 'TotalTaxes', 'LotSize', \n",
    "                                  'Zoning1', 'LotDepth', 'LotWidth', 'LotType1', 'LotType2','Ward', 'AlderDistrict','NeighborhoodPrimary', 'TotalDwellingUnits','geometry']]\n",
    "narrowed_multifamily.explore()"
   ]
  },
  {
   "cell_type": "code",
   "execution_count": null,
   "id": "34c510a6",
   "metadata": {},
   "outputs": [],
   "source": [
    "multifamily_zero_dwelling_units = narrowed_multifamily[narrowed_multifamily['TotalDwellingUnits']==0]\n",
    "multifamily_zero_dwelling_units.info()"
   ]
  },
  {
   "cell_type": "code",
   "execution_count": null,
   "id": "7d6bc16a",
   "metadata": {},
   "outputs": [],
   "source": [
    "multifamily_zero_dwelling_units.explore()"
   ]
  },
  {
   "cell_type": "code",
   "execution_count": null,
   "id": "cd6a029b",
   "metadata": {},
   "outputs": [],
   "source": [
    "alder_2_4 = multifamily[multifamily.AlderDistrict.isin([2,4])]\n",
    "alder_2_4_multifamily_grouped = alder_2_4.groupby([\"MaxConstructionYear\"], sort=True, as_index=False).agg({\"TotalDwellingUnits\":\"sum\"})\n",
    "alder_2_4_multifamily_grouped['construction_by_decade'] = pd.cut(x=alder_2_4_multifamily_grouped['MaxConstructionYear'], bins=[1700,1899,1909,1919,1929,1939,1949,1959,1969,1979,1989,1999,2009,2019,2029], \n",
    "                                                       labels=['1800-1899', '1900s','1910s', '1920s', '1930s', '1940s', '1950s', '1960s','1970s','1980s', '1990s','2000s','2010s','2020s'])\n",
    "\n",
    "\n",
    "ax = alder_2_4_multifamily_grouped.groupby([\"construction_by_decade\"], sort=True, as_index=False).agg({\"TotalDwellingUnits\":\"sum\"}).plot.bar(x='construction_by_decade', y='TotalDwellingUnits', rot=0, ylabel='Total Dwelling units')\n",
    "\n",
    "plt.xticks(rotation=45)\n",
    "plt.show()"
   ]
  },
  {
   "cell_type": "code",
   "execution_count": null,
   "id": "bcb45f80",
   "metadata": {},
   "outputs": [],
   "source": [
    "alder_6 = multifamily[multifamily.AlderDistrict.isin([6])]\n",
    "alder_6_multifamily_grouped = alder_6.groupby([\"MaxConstructionYear\"], sort=True, as_index=False).agg({\"TotalDwellingUnits\":\"sum\"})\n",
    "alder_6_multifamily_grouped['construction_by_decade'] = pd.cut(x=alder_6_multifamily_grouped['MaxConstructionYear'], bins=[1700,1899,1909,1919,1929,1939,1949,1959,1969,1979,1989,1999,2009,2019,2029], \n",
    "                                                       labels=['1800-1899', '1900s','1910s', '1920s', '1930s', '1940s', '1950s', '1960s','1970s','1980s', '1990s','2000s','2010s','2020s'])\n",
    "\n",
    "#print(alder_6_multifamily_grouped.groupby([\"construction_by_decade\"], sort=True, as_index=False).agg({\"TotalDwellingUnits\":\"sum\"}).to_markdown())\n",
    "\n",
    "ax = alder_6_multifamily_grouped.groupby([\"construction_by_decade\"], sort=True, as_index=False).agg({\"TotalDwellingUnits\":\"sum\"}).plot.bar(x='construction_by_decade', y='TotalDwellingUnits', rot=0, \n",
    "                                                                                                                                           ylabel='Total MultiFamily Dwelling units', xlabel='Decade of Construction')\n",
    "plt.title(\"Units of multifamily housing built in Madison Alder District 6 per decade\")\n",
    "plt.xticks(rotation=45)\n",
    "plt.show()"
   ]
  },
  {
   "cell_type": "code",
   "execution_count": null,
   "id": "d0b93cb9",
   "metadata": {},
   "outputs": [],
   "source": [
    "alder_district = 8\n",
    "\n",
    "alder_df = multifamily[multifamily.AlderDistrict == alder_district]\n",
    "alder_df_multifamily_grouped = alder_df.groupby([\"MaxConstructionYear\"], sort=True, as_index=False).agg({\"TotalDwellingUnits\":\"sum\"})\n",
    "alder_df_multifamily_grouped['construction_by_decade'] = pd.cut(x=alder_df_multifamily_grouped['MaxConstructionYear'], bins=[1700,1899,1909,1919,1929,1939,1949,1959,1969,1979,1989,1999,2009,2019,2029], \n",
    "                                                       labels=['1800-1899', '1900s','1910s', '1920s', '1930s', '1940s', '1950s', '1960s','1970s','1980s', '1990s','2000s','2010s','2020s'])\n",
    "\n",
    "#print(alder_6_multifamily_grouped.groupby([\"construction_by_decade\"], sort=True, as_index=False).agg({\"TotalDwellingUnits\":\"sum\"}).to_markdown())\n",
    "\n",
    "alder_df_max_const_decade = alder_df_multifamily_grouped.groupby(\n",
    "    [\"construction_by_decade\"], sort=True, as_index=False).agg({\"TotalDwellingUnits\":\"sum\"})\n",
    "\n",
    "ax = alder_df_max_const_decade.plot.bar(x='construction_by_decade', y='TotalDwellingUnits', rot=0, \n",
    "                                                                                                                                           ylabel='Total MultiFamily Dwelling units', xlabel='Decade of Construction')\n",
    "plt.title(f\"Units of multifamily housing built in Madison Alder District {alder_district} per decade\")\n",
    "plt.xticks(rotation=45)\n",
    "plt.show()\n"
   ]
  },
  {
   "cell_type": "code",
   "execution_count": null,
   "id": "a48cdce2",
   "metadata": {},
   "outputs": [],
   "source": [
    "narrowed_parcels = parcels.loc[:,['Parcel', 'XRefParcel', 'Address', 'PropertyClass', 'PropertyUse',\n",
    "                                  'AreaName', 'Bedrooms', 'CurrentTotal', 'NetTaxes', 'TotalTaxes', 'LotSize', 'SHAPE_Area',\n",
    "                                  'Zoning1', 'LotDepth', 'LotWidth', 'LotType1', 'LotType2','Ward', 'AlderDistrict','NeighborhoodPrimary', 'TotalDwellingUnits','geometry']]\n"
   ]
  },
  {
   "cell_type": "code",
   "execution_count": null,
   "id": "93ca7df7",
   "metadata": {},
   "outputs": [],
   "source": [
    "narrowed_parcels.explore()"
   ]
  },
  {
   "cell_type": "code",
   "execution_count": null,
   "id": "6d6e16e2",
   "metadata": {},
   "outputs": [],
   "source": [
    "narrowed_parcels[\"MostCommonPropertyClass\"] = (narrowed_parcels.groupby(\"XRefParcel\")[\"PropertyClass\"]\n",
    "                        .transform(lambda x: x.value_counts().index[0]))\n",
    "\n",
    "narrowed_parcels[\"MostCommonPropertyUse\"] = (narrowed_parcels.groupby(\"XRefParcel\")[\"PropertyUse\"]\n",
    "                        .transform(lambda x: x.value_counts().index[0]))\n",
    "\n",
    "narrowed_parcels[\"MostCommonAreaName\"] = (narrowed_parcels.groupby(\"XRefParcel\")[\"AreaName\"]\n",
    "                        .transform(lambda x: x.value_counts().index[0]))\n",
    "\n",
    "narrowed_parcels[\"MostCommonLotType1\"] = (narrowed_parcels.groupby(\"XRefParcel\")[\"LotType1\"]\n",
    "                        .transform(lambda x: x.value_counts().index[0]))\n",
    "\n",
    "narrowed_parcels[\"MostCommonLotType2\"] = (narrowed_parcels.groupby(\"XRefParcel\")[\"LotType2\"]\n",
    "                        .transform(lambda x: x.value_counts().index[0]))\n",
    "\n",
    "narrowed_parcels[\"MostCommonZoning1\"] = (narrowed_parcels.groupby(\"XRefParcel\")[\"Zoning1\"]\n",
    "                        .transform(lambda x: x.value_counts().index[0]))\n",
    "\n",
    "narrowed_parcels[\"MostCommonNeighborhoodPrimary\"] = (narrowed_parcels.groupby(\"XRefParcel\")[\"NeighborhoodPrimary\"]\n",
    "                        .transform(lambda x: x.value_counts().index[0]))\n",
    "\n",
    "narrowed_parcels_grouped = narrowed_parcels.groupby([\"XRefParcel\",\"geometry\", \"MostCommonPropertyClass\", \n",
    "                  \"MostCommonPropertyUse\", \"MostCommonAreaName\", \"MostCommonLotType1\", \"MostCommonLotType2\", \n",
    "                  \"MostCommonZoning1\", \"Ward\", 'AlderDistrict','MostCommonNeighborhoodPrimary'], sort=False, as_index=False).agg(\n",
    "    {\"Address\":\"min\", \"Bedrooms\":\"sum\", \"CurrentTotal\":\"sum\", \"NetTaxes\":\"sum\",\"TotalTaxes\":\"sum\", \n",
    "     \"LotSize\":\"max\",\"SHAPE_Area\":\"max\", \"TotalDwellingUnits\":\"sum\"})\n",
    "\n",
    "narrowed_parcels_grouped['MostCommonPropertyUseCleaned'] = narrowed_parcels_grouped['MostCommonPropertyUse'].apply(clean_up_property_use)\n",
    "\n",
    "narrowed_parcels_grouped = gpd.GeoDataFrame(narrowed_parcels_grouped, geometry='geometry')\n",
    "\n",
    "#narrowed_parcels_grouped.explore(\"taxes_per_sq_foot\", cmap=\"Blues\",tooltip=False, popup=True, tiles='Stamen Toner' )"
   ]
  },
  {
   "cell_type": "code",
   "execution_count": null,
   "id": "4df4cdfe",
   "metadata": {},
   "outputs": [],
   "source": [
    "bad_lot_size = narrowed_parcels_grouped.loc[narrowed_parcels_grouped['LotSize'].isin([0.00, 0.01, 1.00, 6.00])]\n",
    "bad_lot_size.explore()"
   ]
  },
  {
   "cell_type": "code",
   "execution_count": null,
   "id": "a7604e54",
   "metadata": {},
   "outputs": [],
   "source": [
    "#set to a proper equal area projection, and calculate a square foot\n",
    "bad_lot_size = bad_lot_size.to_crs(\"EPSG:5070\")\n",
    "bad_lot_size[\"SqFeet\"] = bad_lot_size.area*10.7639\n",
    "bad_lot_size.head(24)"
   ]
  },
  {
   "cell_type": "code",
   "execution_count": null,
   "id": "630ecece",
   "metadata": {},
   "outputs": [],
   "source": [
    "for index, row in bad_lot_size.iterrows():\n",
    "    print(index, row['XRefParcel'],row['SqFeet'])\n",
    "    print(narrowed_parcels_grouped.at[index,'XRefParcel'], narrowed_parcels_grouped.at[index,'LotSize'])\n",
    "    narrowed_parcels_grouped.at[index,'LotSize']=row['SqFeet']"
   ]
  },
  {
   "cell_type": "code",
   "execution_count": null,
   "id": "d724d4a0",
   "metadata": {},
   "outputs": [],
   "source": [
    "narrowed_parcels_grouped['taxes_per_sq_foot'] = narrowed_parcels_grouped['TotalTaxes']/narrowed_parcels_grouped['LotSize']"
   ]
  },
  {
   "cell_type": "code",
   "execution_count": null,
   "id": "386e1393",
   "metadata": {},
   "outputs": [],
   "source": [
    "taxes_top = narrowed_parcels_grouped.sort_values(by='taxes_per_sq_foot',ascending=False)\n",
    "taxes_top.head(50)\n"
   ]
  },
  {
   "cell_type": "code",
   "execution_count": null,
   "id": "4dfa3961",
   "metadata": {},
   "outputs": [],
   "source": [
    "size = narrowed_parcels_grouped['taxes_per_sq_foot'].size-1\n",
    "narrowed_parcels_grouped['percentile'] = narrowed_parcels_grouped['taxes_per_sq_foot'].rank(method='max').apply(lambda x: 100.0*(x-1)/size)\n",
    "narrowed_parcels_grouped['taxes_per_acre'] = narrowed_parcels_grouped['taxes_per_sq_foot']*43560\n",
    "narrowed_parcels_grouped.head(50)"
   ]
  },
  {
   "cell_type": "code",
   "execution_count": null,
   "id": "b4e912f2",
   "metadata": {},
   "outputs": [],
   "source": [
    "narrowed_parcels_grouped.hist(column='taxes_per_acre',  by='AlderDistrict', bins=25,)"
   ]
  },
  {
   "cell_type": "code",
   "execution_count": null,
   "id": "86cfc460",
   "metadata": {},
   "outputs": [],
   "source": [
    "from datetime import date\n",
    "\n",
    "today = date.today()\n",
    "\n",
    "# dd/mm/YY\n",
    "date = today.strftime(\"%Y-%m-%d\")\n",
    "\n",
    "\n",
    "\n",
    "narrowed_parcels_grouped.to_file(f\"madison_taxes_per_sq_foot-{date}.geojson\", driver='GeoJSON')"
   ]
  },
  {
   "cell_type": "code",
   "execution_count": null,
   "id": "bac872d9",
   "metadata": {},
   "outputs": [],
   "source": [
    "alder_data = narrowed_parcels_grouped[['AlderDistrict', 'Bedrooms', 'CurrentTotal','NetTaxes', 'LotSize','TotalDwellingUnits','MostCommonZoning1']].groupby(['AlderDistrict']).sum()\n",
    "\n",
    "alder_data.head(50)"
   ]
  },
  {
   "cell_type": "code",
   "execution_count": null,
   "id": "9487ae66",
   "metadata": {},
   "outputs": [],
   "source": [
    "alder_data.to_pickle(\"alder_data.pkl\")"
   ]
  },
  {
   "cell_type": "markdown",
   "id": "7da45b93",
   "metadata": {},
   "source": [
    "\n",
    "You can get the neighborhood associations geojson from the [Madison Open Data Portal](https://data-cityofmadison.opendata.arcgis.com/datasets/66e4a6a80ae64865a81bc8d4464a6417_12/explore)"
   ]
  },
  {
   "cell_type": "code",
   "execution_count": null,
   "id": "f998cc01",
   "metadata": {},
   "outputs": [],
   "source": [
    "nb_assoc = gpd.read_file('Neighborhood_Associations.geojson')\n",
    "nb_assoc.head()"
   ]
  },
  {
   "cell_type": "code",
   "execution_count": null,
   "id": "79d13f87",
   "metadata": {},
   "outputs": [],
   "source": [
    "nb_assoc.explore(\"ShapeSTArea\", cmap=\"Blues\") "
   ]
  },
  {
   "cell_type": "code",
   "execution_count": null,
   "id": "26664959",
   "metadata": {},
   "outputs": [],
   "source": [
    "bay_creek = nb_assoc[nb_assoc['NEIGHB_NAME']== 'Bay Creek Neighborhood Association']\n",
    "bay_creek"
   ]
  },
  {
   "cell_type": "code",
   "execution_count": null,
   "id": "72b8515a",
   "metadata": {},
   "outputs": [],
   "source": [
    "join_left_neigh_assoc_parcels = bay_creek.sjoin(narrowed_parcels_grouped, how=\"right\")\n",
    "join_left_neigh_assoc_parcels.explore()"
   ]
  },
  {
   "cell_type": "code",
   "execution_count": null,
   "id": "38acf6c3",
   "metadata": {},
   "outputs": [],
   "source": [
    "narrowed_parcels_grouped.head()\n",
    "narrowed_parcels_grouped.info(verbose=True)"
   ]
  },
  {
   "cell_type": "code",
   "execution_count": null,
   "id": "e8c5de3e",
   "metadata": {},
   "outputs": [],
   "source": [
    "res_difference = bay_creek.overlay(narrowed_parcels_grouped, how='intersection')\n",
    "res_difference.explore()\n",
    "\n"
   ]
  },
  {
   "cell_type": "code",
   "execution_count": null,
   "id": "3bba8c12",
   "metadata": {},
   "outputs": [],
   "source": [
    "res_difference.info(verbose=True)"
   ]
  },
  {
   "cell_type": "code",
   "execution_count": null,
   "id": "89a6a4a0",
   "metadata": {},
   "outputs": [],
   "source": [
    "bay_creek_narrowed = res_difference[['NA_ID','MostCommonPropertyUse','Bedrooms', 'CurrentTotal','NetTaxes', 'LotSize','TotalDwellingUnits']]\n",
    "\n",
    "\n",
    "bay_creek_narrowed_grouped = bay_creek_narrowed.groupby(['NA_ID']).sum()\n",
    "\n",
    "bay_creek_narrowed_grouped\n",
    "\n"
   ]
  },
  {
   "cell_type": "code",
   "execution_count": null,
   "id": "cd419286",
   "metadata": {},
   "outputs": [],
   "source": [
    "whole_city_nb_parcels = nb_assoc.overlay(narrowed_parcels_grouped, how='intersection')\n",
    "whole_city_nb_parcels.explore()"
   ]
  },
  {
   "cell_type": "code",
   "execution_count": null,
   "id": "869d61dd",
   "metadata": {},
   "outputs": [],
   "source": [
    "whole_city_nb_parcels_narrowed = whole_city_nb_parcels[['NA_ID','NEIGHB_NAME','Bedrooms', 'CurrentTotal','NetTaxes', 'LotSize','TotalDwellingUnits','MostCommonPropertyUse']]\n",
    "\n",
    "\n",
    "whole_city_nb_parcels_narrowed_grouped = whole_city_nb_parcels_narrowed.groupby(['NA_ID','NEIGHB_NAME','MostCommonPropertyUse']).sum()\n",
    "\n",
    "whole_city_nb_parcels_narrowed_grouped.head()"
   ]
  },
  {
   "cell_type": "code",
   "execution_count": null,
   "id": "51c4d93d",
   "metadata": {},
   "outputs": [],
   "source": [
    "whole_city_nb_parcels_narrowed_grouped.to_csv('neigh_associan_value_taxes.csv')"
   ]
  },
  {
   "cell_type": "code",
   "execution_count": null,
   "id": "67d341b6",
   "metadata": {},
   "outputs": [],
   "source": []
  }
 ],
 "metadata": {
  "kernelspec": {
   "display_name": "Python 3 (ipykernel)",
   "language": "python",
   "name": "python3"
  },
  "language_info": {
   "codemirror_mode": {
    "name": "ipython",
    "version": 3
   },
   "file_extension": ".py",
   "mimetype": "text/x-python",
   "name": "python",
   "nbconvert_exporter": "python",
   "pygments_lexer": "ipython3",
   "version": "3.9.7"
  }
 },
 "nbformat": 4,
 "nbformat_minor": 5
}
