{
 "cells": [
  {
   "cell_type": "code",
   "execution_count": null,
   "id": "19672d4b",
   "metadata": {},
   "outputs": [],
   "source": [
    "import geopandas as gpd\n",
    "import pandas as pd\n",
    "import folium\n",
    "import matplotlib.pyplot as plt\n",
    "import numpy as np"
   ]
  },
  {
   "cell_type": "code",
   "execution_count": null,
   "id": "3b818650",
   "metadata": {},
   "outputs": [],
   "source": [
    "storm_sewers = gpd.read_file('Storm_Sewer_Pipes.geojson')"
   ]
  },
  {
   "cell_type": "code",
   "execution_count": null,
   "id": "d5eb5f77",
   "metadata": {
    "scrolled": true
   },
   "outputs": [],
   "source": [
    "storm_sewers.head()"
   ]
  },
  {
   "cell_type": "code",
   "execution_count": null,
   "id": "161dbb10",
   "metadata": {},
   "outputs": [],
   "source": [
    "storm_sewers.info(verbose=True)"
   ]
  },
  {
   "cell_type": "code",
   "execution_count": null,
   "id": "63c4abf9",
   "metadata": {},
   "outputs": [],
   "source": [
    "storm_sewers_narrow = storm_sewers[['OBJECTID','Dim_1','Legacy_pipe_length','Existing_size', 'Material','Owner','District_Code', 'Label','ShapeSTLength','geometry']]\n",
    "storm_sewers_narrow.head(50)"
   ]
  },
  {
   "cell_type": "code",
   "execution_count": null,
   "id": "313d0095",
   "metadata": {},
   "outputs": [],
   "source": [
    "storm_sewers_narrow.plot()\n"
   ]
  },
  {
   "cell_type": "code",
   "execution_count": null,
   "id": "2a23686a",
   "metadata": {},
   "outputs": [],
   "source": [
    "storm_sewers_narrow.explore()"
   ]
  },
  {
   "cell_type": "code",
   "execution_count": null,
   "id": "caa7599d",
   "metadata": {},
   "outputs": [],
   "source": [
    "alders = gpd.read_file('alder_districts_without_lakes.geojson')"
   ]
  },
  {
   "cell_type": "code",
   "execution_count": null,
   "id": "b2da2d94",
   "metadata": {},
   "outputs": [],
   "source": [
    "alders.head()"
   ]
  },
  {
   "cell_type": "code",
   "execution_count": null,
   "id": "0637ea34",
   "metadata": {},
   "outputs": [],
   "source": [
    "join_left_storm_sewer_alder = storm_sewers_narrow.sjoin(alders, how=\"left\")\n",
    "\n",
    "join_left_storm_sewer_alder\n"
   ]
  },
  {
   "cell_type": "code",
   "execution_count": null,
   "id": "9e2e4456",
   "metadata": {},
   "outputs": [],
   "source": [
    "sewer_length_alder = join_left_storm_sewer_alder[['ShapeSTLength','ALD_DIST']].groupby(['ALD_DIST']).sum()\n",
    "sewer_length_alder=sewer_length_alder.reset_index(level=['ALD_DIST'])\n",
    "sewer_length_alder['ALD_DIST']=sewer_length_alder.ALD_DIST.astype(int)\n",
    "sewer_length_alder= sewer_length_alder.rename(columns={\"ShapeSTLength\": \"storm_sewer_length\"})\n",
    "sewer_length_alder.set_index('ALD_DIST')\n",
    "sewer_length_alder.head(50)"
   ]
  },
  {
   "cell_type": "code",
   "execution_count": null,
   "id": "f7bb6cf3",
   "metadata": {},
   "outputs": [],
   "source": [
    "alders_storm_sewers = pd.merge(alders,sewer_length_alder, left_on='ALD_DIST', right_on='ALD_DIST', how='left')\n",
    "alders_storm_sewers.head()"
   ]
  },
  {
   "cell_type": "code",
   "execution_count": null,
   "id": "4da95aa3",
   "metadata": {},
   "outputs": [],
   "source": [
    "alder_data= pd.read_pickle(\"alder_data.pkl\")\n",
    "alder_data.head(50)"
   ]
  },
  {
   "cell_type": "code",
   "execution_count": null,
   "id": "09ac6a55",
   "metadata": {},
   "outputs": [],
   "source": [
    "alders_storm_sewers_taxes = pd.merge(alder_data,alders_storm_sewers, left_on='AlderDistrict', right_on='ALD_DIST', how='right')\n",
    "alders_storm_sewers_taxes  = gpd.GeoDataFrame(alders_storm_sewers_taxes , geometry='geometry')\n",
    "alders_storm_sewers_taxes.head(30)"
   ]
  },
  {
   "cell_type": "code",
   "execution_count": null,
   "id": "df65a019",
   "metadata": {},
   "outputs": [],
   "source": [
    "alders_storm_sewers_taxes['storms_sewers_per_dwelling_unit'] = alders_storm_sewers_taxes['storm_sewer_length']/alders_storm_sewers_taxes['TotalDwellingUnits']\n",
    "alders_storm_sewers_taxes['taxes_per_foot_storms_sewers'] = alders_storm_sewers_taxes['NetTaxes']/alders_storm_sewers_taxes['storm_sewer_length']\n",
    "\n",
    "alders_storm_sewers_taxes.head(25)\n"
   ]
  },
  {
   "cell_type": "code",
   "execution_count": null,
   "id": "1b06190f",
   "metadata": {},
   "outputs": [],
   "source": [
    "alders_storm_sewers_taxes.plot(column='storms_sewers_per_dwelling_unit', cmap='OrRd', edgecolor='k', legend=True)"
   ]
  },
  {
   "cell_type": "code",
   "execution_count": null,
   "id": "66eab716",
   "metadata": {},
   "outputs": [],
   "source": [
    "alders_storm_sewers_taxes.plot(column='taxes_per_foot_storms_sewers', cmap='OrRd', edgecolor='k', legend=True)"
   ]
  },
  {
   "cell_type": "code",
   "execution_count": null,
   "id": "92a0c02b",
   "metadata": {},
   "outputs": [],
   "source": [
    "x_map=alders_storm_sewers_taxes.centroid.x.mean()\n",
    "y_map=alders_storm_sewers_taxes.centroid.y.mean()"
   ]
  },
  {
   "cell_type": "code",
   "execution_count": null,
   "id": "00389870",
   "metadata": {},
   "outputs": [],
   "source": [
    "dif_map = folium.Map(location=[y_map, x_map], zoom_start=12,tiles=None)\n",
    "folium.TileLayer('CartoDB positron',name=\"Light Map\",control=False).add_to(dif_map)\n",
    "\n",
    "folium.Choropleth(\n",
    "    geo_data=alders_storm_sewers_taxes,\n",
    "    data=alders_storm_sewers_taxes,\n",
    "    columns=['ALD_DIST','storms_sewers_per_dwelling_unit'],\n",
    "    key_on=\"feature.properties.ALD_DIST\",\n",
    "    fill_color=\"YlGn\",\n",
    "    fill_opacity=0.7,\n",
    "    line_opacity=0.2,\n",
    "    legend_name=\"Feet of storm sewers per dwelling unit\",\n",
    "    highlight=True,\n",
    ").add_to(dif_map)\n",
    "\n",
    "dif_map"
   ]
  },
  {
   "cell_type": "code",
   "execution_count": null,
   "id": "04a9b79c",
   "metadata": {},
   "outputs": [],
   "source": [
    "taxes_storm_sewers_map = folium.Map(location=[y_map, x_map], zoom_start=12,tiles=None)\n",
    "folium.TileLayer('CartoDB positron',name=\"Light Map\",control=False).add_to(taxes_storm_sewers_map)\n",
    "\n",
    "folium.Choropleth(\n",
    "    geo_data=alders_storm_sewers_taxes,\n",
    "    data=alders_storm_sewers_taxes,\n",
    "    columns=['ALD_DIST','taxes_per_foot_storms_sewers'],\n",
    "    key_on=\"feature.properties.ALD_DIST\",\n",
    "    fill_color=\"YlGn\",\n",
    "    fill_opacity=0.7,\n",
    "    line_opacity=0.2,\n",
    "    legend_name=\"Dollars of taxes per foot of storm sewer\",\n",
    "    highlight=True,\n",
    ").add_to(taxes_storm_sewers_map)\n",
    "\n",
    "taxes_storm_sewers_map"
   ]
  },
  {
   "cell_type": "code",
   "execution_count": null,
   "id": "ff35cffc",
   "metadata": {},
   "outputs": [],
   "source": [
    "alders_storm_sewers_taxes.explore(\"taxes_per_foot_storms_sewers\", cmap=\"Blues\") "
   ]
  },
  {
   "cell_type": "code",
   "execution_count": null,
   "id": "1309c7c3",
   "metadata": {},
   "outputs": [],
   "source": [
    "nb_assoc = gpd.read_file('Neighborhood_Associations.geojson')\n",
    "nb_assoc.explore()"
   ]
  },
  {
   "cell_type": "code",
   "execution_count": null,
   "id": "b2e80584",
   "metadata": {},
   "outputs": [],
   "source": [
    "bay_creek = nb_assoc[nb_assoc['NEIGHB_NAME']== 'Bay Creek Neighborhood Association']\n",
    "bay_creek.explore()"
   ]
  },
  {
   "cell_type": "code",
   "execution_count": null,
   "id": "5fff3fbe",
   "metadata": {},
   "outputs": [],
   "source": [
    "bay_creek.head()"
   ]
  },
  {
   "cell_type": "code",
   "execution_count": null,
   "id": "4b81d104",
   "metadata": {},
   "outputs": [],
   "source": [
    "sewers_int_bay_creek = bay_creek.overlay(storm_sewers_narrow, how='intersection', keep_geom_type=False)\n",
    "sewers_int_bay_creek.explore()"
   ]
  },
  {
   "cell_type": "code",
   "execution_count": null,
   "id": "45077c47",
   "metadata": {},
   "outputs": [],
   "source": [
    "storm_sewers_int_bay_creek_grouped = sewers_int_bay_creek[['NA_ID', 'Legacy_pipe_length','ShapeSTLength_2']].groupby(['NA_ID']).sum()\n",
    "storm_sewers_int_bay_creek_grouped"
   ]
  },
  {
   "cell_type": "code",
   "execution_count": null,
   "id": "6b40dcd0",
   "metadata": {},
   "outputs": [],
   "source": [
    "sanitary_sewers = gpd.read_file('Sanitary_Sewer_Mains.geojson')\n",
    "sanitary_sewers.info(verbose=True)"
   ]
  },
  {
   "cell_type": "code",
   "execution_count": null,
   "id": "eafa072f",
   "metadata": {
    "scrolled": true
   },
   "outputs": [],
   "source": [
    "sanitary_sewers = sanitary_sewers[['OBJECTID','Length_ft','ShapeSTLength','geometry']]\n",
    "\n",
    "sanitary_sewers.explore()"
   ]
  },
  {
   "cell_type": "code",
   "execution_count": null,
   "id": "2b247a4c",
   "metadata": {},
   "outputs": [],
   "source": [
    "sanitary_sewers_int_bay_creek = bay_creek.overlay(sanitary_sewers, how='intersection', keep_geom_type=False)\n",
    "sanitary_sewers_int_bay_creek = sanitary_sewers_int_bay_creek[['NA_ID','OBJECTID_2','Length_ft','ShapeSTLength_2','geometry']]\n",
    "sanitary_sewers_int_bay_creek.explore()"
   ]
  },
  {
   "cell_type": "code",
   "execution_count": null,
   "id": "01dd792b",
   "metadata": {},
   "outputs": [],
   "source": [
    "sanitary_sewers_int_bay_creek_grouped = sanitary_sewers_int_bay_creek[['NA_ID', 'Length_ft','ShapeSTLength_2']].groupby(['NA_ID']).sum()\n",
    "sanitary_sewers_int_bay_creek_grouped"
   ]
  },
  {
   "cell_type": "code",
   "execution_count": null,
   "id": "00cc0541",
   "metadata": {},
   "outputs": [],
   "source": [
    "sanitary_sewer_laterals = gpd.read_file('Sanitary_Sewer_Laterals.geojson')\n",
    "sanitary_sewer_laterals.info(verbose=True)"
   ]
  },
  {
   "cell_type": "code",
   "execution_count": null,
   "id": "a07e656c",
   "metadata": {},
   "outputs": [],
   "source": [
    "sanitary_sewer_laterals = sanitary_sewer_laterals[['OBJECTID','Parcel_no','SHAPESTLength','geometry']]\n",
    "\n",
    "sanitary_sewer_laterals.explore()"
   ]
  },
  {
   "cell_type": "code",
   "execution_count": null,
   "id": "9b9c260b",
   "metadata": {
    "scrolled": true
   },
   "outputs": [],
   "source": [
    "sanitary_sewer_laterals_int_bay_creek = bay_creek.overlay(sanitary_sewer_laterals, how='intersection', keep_geom_type=False)\n",
    "#sanitary_sewer_laterals_int_bay_creek = sanitary_sewers_laterals_int_bay_creek[['NA_ID','OBJECTID','Parcel_no','SHAPESTLength','geometry']]\n",
    "sanitary_sewer_laterals_int_bay_creek.explore()"
   ]
  },
  {
   "cell_type": "code",
   "execution_count": null,
   "id": "37d30417",
   "metadata": {},
   "outputs": [],
   "source": [
    "sanitary_sewer_laterals_bay_creek_grouped = sanitary_sewer_laterals_int_bay_creek[['NA_ID', 'SHAPESTLength']].groupby(['NA_ID']).sum()\n",
    "sanitary_sewer_laterals_bay_creek_grouped"
   ]
  },
  {
   "cell_type": "code",
   "execution_count": null,
   "id": "057ed74a",
   "metadata": {},
   "outputs": [],
   "source": [
    "streets =  gpd.read_file('Street_Centerlines_and_Pavement_Data(1).geojson')\n",
    "streets.info(verbose=True)"
   ]
  },
  {
   "cell_type": "code",
   "execution_count": null,
   "id": "d4a7abf8",
   "metadata": {},
   "outputs": [],
   "source": [
    "streets_geomcollection = streets[streets.geom_type == 'GeometryCollection']\n",
    "streets_geomcollection.head()"
   ]
  },
  {
   "cell_type": "code",
   "execution_count": null,
   "id": "8e341184",
   "metadata": {},
   "outputs": [],
   "source": [
    "#drop the geomcollections since they are zerolength segments making everything hard\n",
    "streets = streets[streets.geom_type == 'LineString']\n",
    "streets.plot()"
   ]
  },
  {
   "cell_type": "code",
   "execution_count": null,
   "id": "98f9cf38",
   "metadata": {},
   "outputs": [],
   "source": [
    " #df2 = df.loc[:, ['A']]\n",
    "\n",
    "streets_narrow = streets.loc[:,['OBJECTID','segment_name','surface_width','sidewalk','median_width','rw_width','lanes','ShapeSTLength','geometry']]\n",
    "streets_narrow.explore()"
   ]
  },
  {
   "cell_type": "code",
   "execution_count": null,
   "id": "176e341c",
   "metadata": {},
   "outputs": [],
   "source": [
    "streets_narrow.head(50)"
   ]
  },
  {
   "cell_type": "code",
   "execution_count": null,
   "id": "f8144a8e",
   "metadata": {},
   "outputs": [],
   "source": [
    "\n",
    "streets_narrow['pavement_area'] = (streets_narrow['surface_width'] * streets_narrow['ShapeSTLength'])\n",
    "\n",
    "\n",
    "streets_narrow['right_of_way_area'] = (streets_narrow['rw_width'] * streets_narrow['ShapeSTLength'])\n",
    "\n"
   ]
  },
  {
   "cell_type": "code",
   "execution_count": null,
   "id": "968854d5",
   "metadata": {},
   "outputs": [],
   "source": [
    "streets_int_bay_creek = bay_creek.overlay(streets_narrow, how='intersection', keep_geom_type=False)\n"
   ]
  },
  {
   "cell_type": "code",
   "execution_count": null,
   "id": "f498aa1a",
   "metadata": {},
   "outputs": [],
   "source": [
    "streets_int_bay_creek.explore()\n"
   ]
  },
  {
   "cell_type": "code",
   "execution_count": null,
   "id": "ea0fd8c6",
   "metadata": {},
   "outputs": [],
   "source": [
    "streets_bay_creek_grouped = streets_int_bay_creek[['NA_ID', 'ShapeSTArea','ShapeSTLength_2','pavement_area','right_of_way_area']].groupby(['NA_ID','ShapeSTArea' ]).sum()\n",
    "streets_bay_creek_grouped=streets_bay_creek_grouped.reset_index('ShapeSTArea')\n",
    "streets_bay_creek_grouped['percent_street'] = 100*(streets_bay_creek_grouped['pavement_area']/streets_bay_creek_grouped['ShapeSTArea'])\n",
    "streets_bay_creek_grouped['percent_row'] = 100*(streets_bay_creek_grouped['right_of_way_area']/streets_bay_creek_grouped['ShapeSTArea'])\n",
    "\n",
    "streets_bay_creek_grouped.head()"
   ]
  },
  {
   "cell_type": "markdown",
   "id": "b84c084d",
   "metadata": {},
   "source": [
    "area per neighborhood"
   ]
  },
  {
   "cell_type": "code",
   "execution_count": null,
   "id": "6b1d58b6",
   "metadata": {},
   "outputs": [],
   "source": [
    "streets_narrow.explore()"
   ]
  },
  {
   "cell_type": "code",
   "execution_count": null,
   "id": "dcd8eb04",
   "metadata": {},
   "outputs": [],
   "source": [
    "streets_int_neb_assoc = nb_assoc.overlay(streets_narrow, how='intersection', keep_geom_type=False)"
   ]
  },
  {
   "cell_type": "code",
   "execution_count": null,
   "id": "22ca4d63",
   "metadata": {},
   "outputs": [],
   "source": [
    "streets_int_neb_assoc.explore()"
   ]
  },
  {
   "cell_type": "code",
   "execution_count": null,
   "id": "76978188",
   "metadata": {},
   "outputs": [],
   "source": [
    "streets_neb_assoc_grouped = streets_int_neb_assoc[['NA_ID', 'ShapeSTArea','ShapeSTLength_2','pavement_area','right_of_way_area']].groupby(['NA_ID','ShapeSTArea' ]).sum()\n",
    "streets_neb_assoc_grouped=streets_neb_assoc_grouped.reset_index('ShapeSTArea')\n",
    "streets_neb_assoc_grouped['percent_street'] = 100*(streets_neb_assoc_grouped['pavement_area']/streets_neb_assoc_grouped['ShapeSTArea'])\n",
    "streets_neb_assoc_grouped['percent_row'] = 100*(streets_neb_assoc_grouped['right_of_way_area']/streets_neb_assoc_grouped['ShapeSTArea'])\n",
    "\n",
    "streets_neb_assoc_grouped.head(10)"
   ]
  },
  {
   "cell_type": "code",
   "execution_count": null,
   "id": "de927924",
   "metadata": {},
   "outputs": [],
   "source": [
    "nb_assoc_streets_row_area = pd.merge(nb_assoc,streets_neb_assoc_grouped, left_on='NA_ID', right_on='NA_ID', how='left')\n",
    "nb_assoc_streets_row_area.head()"
   ]
  },
  {
   "cell_type": "code",
   "execution_count": null,
   "id": "89661b0a",
   "metadata": {},
   "outputs": [],
   "source": [
    "nb_assoc_streets_row_area.explore()"
   ]
  },
  {
   "cell_type": "code",
   "execution_count": null,
   "id": "4e53b996",
   "metadata": {},
   "outputs": [],
   "source": [
    "street_row_map = folium.Map(location=[y_map, x_map], zoom_start=12,tiles=None)\n",
    "folium.TileLayer('CartoDB positron',name=\"Light Map\",control=False).add_to(street_row_map)\n",
    "\n",
    "folium.Choropleth(\n",
    "    geo_data=nb_assoc_streets_row_area,\n",
    "    data=nb_assoc_streets_row_area,\n",
    "    columns=['NEIGHB_NAME','percent_street'],\n",
    "    key_on=\"feature.properties.NEIGHB_NAME\",\n",
    "    fill_color=\"YlGn\",\n",
    "    fill_opacity=0.7,\n",
    "    line_opacity=0.2,\n",
    "    legend_name=\"Percentage of Neighborhood that is paved street\",\n",
    "    highlight=True,\n",
    ").add_to(street_row_map)\n",
    "\n",
    "street_row_map"
   ]
  },
  {
   "cell_type": "code",
   "execution_count": null,
   "id": "a2ff981c",
   "metadata": {},
   "outputs": [],
   "source": [
    "neighb_assoc_tax_data = pd.read_csv('neigh_associan_value_taxes.csv')\n",
    "neighb_assoc_tax_data.head()"
   ]
  },
  {
   "cell_type": "code",
   "execution_count": null,
   "id": "c48c12d4",
   "metadata": {},
   "outputs": [],
   "source": [
    "nb_assoc_streets_row_area_taxes = pd.merge(nb_assoc_streets_row_area,neighb_assoc_tax_data, left_on='NA_ID', right_on='NA_ID', how='left')\n",
    "nb_assoc_streets_row_area_taxes['taxes_per_sq_foot_street'] = nb_assoc_streets_row_area_taxes['NetTaxes']/nb_assoc_streets_row_area_taxes['pavement_area']\n",
    "nb_assoc_streets_row_area_taxes['sq_foot_street_per_dwelling_unit'] = nb_assoc_streets_row_area_taxes['pavement_area']/nb_assoc_streets_row_area_taxes['TotalDwellingUnits']\n",
    "\n",
    "nb_assoc_streets_row_area_taxes['taxes_per_sq_foot_street']= nb_assoc_streets_row_area_taxes['taxes_per_sq_foot_street'].fillna(0)\n",
    "#nb_assoc_streets_row_area_taxes['sq_foot_street_per_dwelling_unit']= nb_assoc_streets_row_area_taxes['sq_foot_street_per_dwelling_unit'].fillna(0)\n",
    "\n",
    "nb_assoc_streets_row_area_taxes.replace([np.inf, -np.inf], np.nan, inplace=True)\n",
    "\n",
    "nb_assoc_streets_row_area_taxes.to_csv('taxes_per_sq_foot_street.csv')\n",
    "nb_assoc_streets_row_area_taxes.info()"
   ]
  },
  {
   "cell_type": "code",
   "execution_count": null,
   "id": "6820b543",
   "metadata": {},
   "outputs": [],
   "source": [
    "taxes_per_street_map = folium.Map(location=[y_map, x_map], zoom_start=12,tiles=None)\n",
    "folium.TileLayer('CartoDB positron',name=\"Light Map\",control=False).add_to(taxes_per_street_map)\n",
    "\n",
    "cp= folium.Choropleth(\n",
    "    geo_data=nb_assoc_streets_row_area_taxes,\n",
    "    data=nb_assoc_streets_row_area_taxes,\n",
    "    columns=['NEIGHB_NAME_x','taxes_per_sq_foot_street'],\n",
    "    key_on=\"feature.properties.NEIGHB_NAME_x\",\n",
    "    fill_color=\"YlGn\",\n",
    "    fill_opacity=0.7,\n",
    "    line_opacity=0.2,\n",
    "    legend_name=\"Net Taxes per square foot of street\",\n",
    "    highlight=True,\n",
    ").add_to(taxes_per_street_map)\n",
    "\n",
    "folium.GeoJsonTooltip(['NEIGHB_NAME_x','taxes_per_sq_foot_street']).add_to(cp.geojson)\n",
    "  \n",
    "#folium.LayerControl().add_to(m)\n",
    "\n",
    "taxes_per_street_map"
   ]
  },
  {
   "cell_type": "code",
   "execution_count": null,
   "id": "2d43d7ee",
   "metadata": {},
   "outputs": [],
   "source": [
    "url = (\n",
    "      \"https://raw.githubusercontent.com/python-visualization/folium/master/examples/data\"\n",
    "  )\n",
    "  state_geo = f\"{url}/us-states.json\"\n",
    "  state_unemployment = f\"{url}/US_Unemployment_Oct2012.csv\"\n",
    "  state_data = pd.read_csv(state_unemployment)\n",
    "  \n",
    "  m = folium.Map(location=[48, -102], zoom_start=3)\n",
    "  \n",
    "  # capturing the return of folium.Choropleth()\n",
    "  cp = folium.Choropleth(\n",
    "      geo_data=state_geo,\n",
    "      name=\"choropleth\",\n",
    "      data=state_data,\n",
    "      columns=[\"State\", \"Unemployment\"],\n",
    "      key_on=\"feature.id\",\n",
    "      fill_color=\"YlGn\",\n",
    "      fill_opacity=0.7,\n",
    "      line_opacity=0.2,\n",
    "      legend_name=\"Unemployment Rate (%)\",\n",
    "  ).add_to(m)\n",
    "  \n",
    "  # creating a state indexed version of the dataframe so we can lookup values\n",
    "  state_data_indexed = state_data.set_index('State')\n",
    "  \n",
    "  # looping thru the geojson object and adding a new property(unemployment)\n",
    "  # and assigning a value from our dataframe\n",
    "  for s in cp.geojson.data['features']:\n",
    "      s['properties']['unemployment'] = state_data_indexed.loc[s['id'], 'Unemployment']\n",
    "  \n",
    "  # and finally adding a tooltip/hover to the choropleth's geojson\n",
    "  folium.GeoJsonTooltip(['name', 'unemployment']).add_to(cp.geojson)\n",
    "  \n",
    "  folium.LayerControl().add_to(m)\n",
    "  \n",
    "  m"
   ]
  },
  {
   "cell_type": "code",
   "execution_count": null,
   "id": "6fa6610c",
   "metadata": {},
   "outputs": [],
   "source": [
    "pavement_per_dwelling_unit_map = folium.Map(location=[y_map, x_map], zoom_start=12,tiles=None)\n",
    "folium.TileLayer('CartoDB positron',name=\"Light Map\",control=False).add_to(pavement_per_dwelling_unit_map)\n",
    "\n",
    "folium.Choropleth(\n",
    "    geo_data=nb_assoc_streets_row_area_taxes,\n",
    "    data=nb_assoc_streets_row_area_taxes,\n",
    "    columns=['NEIGHB_NAME_x','sq_foot_street_per_dwelling_unit'],\n",
    "    key_on=\"feature.properties.NEIGHB_NAME_x\",\n",
    "    fill_color=\"YlGn\",\n",
    "    fill_opacity=0.7,\n",
    "    line_opacity=0.2,\n",
    "    legend_name=\"Square foot of street pavement per dwelling unit\",\n",
    "    highlight=True,\n",
    ").add_to(pavement_per_dwelling_unit_map)\n",
    "\n",
    "pavement_per_dwelling_unit_map"
   ]
  },
  {
   "cell_type": "code",
   "execution_count": null,
   "id": "e9515b23",
   "metadata": {},
   "outputs": [],
   "source": []
  }
 ],
 "metadata": {
  "kernelspec": {
   "display_name": "Python 3 (ipykernel)",
   "language": "python",
   "name": "python3"
  },
  "language_info": {
   "codemirror_mode": {
    "name": "ipython",
    "version": 3
   },
   "file_extension": ".py",
   "mimetype": "text/x-python",
   "name": "python",
   "nbconvert_exporter": "python",
   "pygments_lexer": "ipython3",
   "version": "3.9.7"
  }
 },
 "nbformat": 4,
 "nbformat_minor": 5
}
